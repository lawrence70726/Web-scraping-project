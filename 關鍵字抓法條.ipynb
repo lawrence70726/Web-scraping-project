{
 "cells": [
  {
   "cell_type": "code",
   "execution_count": 1,
   "metadata": {},
   "outputs": [],
   "source": [
    "import requests\n",
    "from bs4 import BeautifulSoup\n",
    "import os\n",
    "import xlsxwriter\n",
    "import xlrd"
   ]
  },
  {
   "cell_type": "code",
   "execution_count": 2,
   "metadata": {},
   "outputs": [],
   "source": [
    "def get_link(keyword):\n",
    "    keyword_link = []\n",
    "    url = \"https://law.moj.gov.tw/Law/LawSearchResult.aspx?ty=ONEBAR&kw=\"\n",
    "    for i in keyword:\n",
    "        keyword_link.append(url+i)\n",
    "    return keyword_link"
   ]
  },
  {
   "cell_type": "code",
   "execution_count": 3,
   "metadata": {},
   "outputs": [],
   "source": [
    "def get_html(url):\n",
    "    #模擬訪問頁面的函數\n",
    "    try:\n",
    "        user_agent = 'Mozilla/5.0'\n",
    "        resp = requests.get(url, headers={'User-Agent': user_agent}, timeout = 30) #回傳為一個request.Response的物件\n",
    "        resp.endcoding = 'utf8'\n",
    "        return resp.text\n",
    "    except:\n",
    "        return 'ERROR'"
   ]
  },
  {
   "cell_type": "code",
   "execution_count": 4,
   "metadata": {},
   "outputs": [],
   "source": [
    "def get_law(url):\n",
    "    try:\n",
    "        law_name = {}\n",
    "        label_fei = {}\n",
    "        flag=1\n",
    "        while flag==1:\n",
    "            html = get_html(url)\n",
    "            soup = BeautifulSoup(html,\"html.parser\")\n",
    "            sel = soup.select(\"#pnLaw td\")\n",
    "            next_page = soup.select(\"ul.pager li #hlPage\")\n",
    "            if str(next_page[2]).find('aspNetDisabled')!=-1:\n",
    "                flag = 0\n",
    "            else:\n",
    "                url = 'https://law.moj.gov.tw'+next_page[2][\"href\"]\n",
    "            for i in range(len(sel)):\n",
    "                if sel[i].text[0]!='\\r':\n",
    "                    law = sel[i].text.strip('\\n')\n",
    "                    law = law.replace('\\r' and '\\n',' ')\n",
    "                    a = law.split('\\r')\n",
    "                    a[1] = a[1].strip(' ')\n",
    "                    a[1] = a[1].strip('英')\n",
    "                    if a[0][0]=='廢':\n",
    "                        label_fei[a[0].strip('廢')] = a[1]\n",
    "                    else:\n",
    "                        law_name[a[0]] = a[1]\n",
    "        return [law_name,label_fei]\n",
    "    except:\n",
    "        return '您所輸入的查詢條件查無資料，請重新設定查詢條件！'"
   ]
  },
  {
   "cell_type": "code",
   "execution_count": 5,
   "metadata": {},
   "outputs": [],
   "source": [
    "def get_all_law(keyword):\n",
    "    Dict_keyword = {}\n",
    "    keyword_link = get_link(keyword)\n",
    "    for i in range(len(keyword_link)):\n",
    "        law = get_law(keyword_link[i])\n",
    "        Dict_keyword[keyword[i]] = law\n",
    "    return Dict_keyword"
   ]
  },
  {
   "cell_type": "code",
   "execution_count": 6,
   "metadata": {},
   "outputs": [],
   "source": [
    "def write_in_excel(keyword,Dict_keyword):\n",
    "    workbook = xlsxwriter.Workbook('法條整理.xlsx')\n",
    "    worksheet = []\n",
    "    first_ws = workbook.add_worksheet('目錄')\n",
    "    row=0\n",
    "    for i in range(len(keyword)):\n",
    "        first_ws.write(row,0,keyword[i])\n",
    "        row+=1\n",
    "        worksheet.append(workbook.add_worksheet(keyword[i]))\n",
    "    for i,key in enumerate(keyword):\n",
    "        worksheet[i].write(0,0,key+'相關法條')\n",
    "        if type(Dict_keyword[key])==str:\n",
    "            worksheet[i].write(1,0,'您所輸入的查詢條件查無資料，請重新設定查詢條件！')\n",
    "        else:\n",
    "            row=1\n",
    "            for j in range(len(Dict_keyword[key][0])):\n",
    "                worksheet[i].write(row,0,list(Dict_keyword[key][0].keys())[j])\n",
    "                worksheet[i].write(row,1,list(Dict_keyword[key][0].values())[j])\n",
    "                row+=1\n",
    "            row+=1\n",
    "            worksheet[i].write(row,0,\"已廢除：\")\n",
    "            row+=1\n",
    "            for j in range(len(Dict_keyword[key][1])):\n",
    "                worksheet[i].write(row,0,list(Dict_keyword[key][1].keys())[j])\n",
    "                worksheet[i].write(row,1,list(Dict_keyword[key][1].values())[j])\n",
    "                row+=1\n",
    "    workbook.close()"
   ]
  },
  {
   "cell_type": "code",
   "execution_count": 7,
   "metadata": {},
   "outputs": [],
   "source": [
    "def read_from_excel():\n",
    "    ad_wb = xlrd.open_workbook(\"法條整理.xlsx\")\n",
    "    entry = ad_wb.sheet_by_name('目錄')\n",
    "    row=0\n",
    "    keyword = entry.col_values(0)\n",
    "    return keyword"
   ]
  },
  {
   "cell_type": "code",
   "execution_count": 8,
   "metadata": {},
   "outputs": [],
   "source": [
    "#main\n",
    "keyword = read_from_excel()\n",
    "Dict_keyword = get_all_law(keyword)\n",
    "write_in_excel(keyword,Dict_keyword)"
   ]
  },
  {
   "cell_type": "code",
   "execution_count": null,
   "metadata": {},
   "outputs": [],
   "source": []
  }
 ],
 "metadata": {
  "kernelspec": {
   "display_name": "Python 3",
   "language": "python",
   "name": "python3"
  },
  "language_info": {
   "codemirror_mode": {
    "name": "ipython",
    "version": 3
   },
   "file_extension": ".py",
   "mimetype": "text/x-python",
   "name": "python",
   "nbconvert_exporter": "python",
   "pygments_lexer": "ipython3",
   "version": "3.6.8"
  },
  "varInspector": {
   "cols": {
    "lenName": 16,
    "lenType": 16,
    "lenVar": 40
   },
   "kernels_config": {
    "python": {
     "delete_cmd_postfix": "",
     "delete_cmd_prefix": "del ",
     "library": "var_list.py",
     "varRefreshCmd": "print(var_dic_list())"
    },
    "r": {
     "delete_cmd_postfix": ") ",
     "delete_cmd_prefix": "rm(",
     "library": "var_list.r",
     "varRefreshCmd": "cat(var_dic_list()) "
    }
   },
   "types_to_exclude": [
    "module",
    "function",
    "builtin_function_or_method",
    "instance",
    "_Feature"
   ],
   "window_display": false
  }
 },
 "nbformat": 4,
 "nbformat_minor": 2
}
